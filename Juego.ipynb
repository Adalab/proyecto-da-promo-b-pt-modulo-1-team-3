{
 "cells": [
  {
   "cell_type": "code",
   "execution_count": 3,
   "metadata": {},
   "outputs": [
    {
     "name": "stdout",
     "output_type": "stream",
     "text": [
      "Requirement already satisfied: pip in /Library/Frameworks/Python.framework/Versions/3.12/lib/python3.12/site-packages (24.0)\n",
      "Note: you may need to restart the kernel to use updated packages.\n"
     ]
    }
   ],
   "source": [
    "pip install --upgrade pip"
   ]
  },
  {
   "cell_type": "code",
   "execution_count": 4,
   "metadata": {},
   "outputs": [
    {
     "name": "stdout",
     "output_type": "stream",
     "text": [
      "Requirement already satisfied: emoji in /Library/Frameworks/Python.framework/Versions/3.12/lib/python3.12/site-packages (2.12.1)\n",
      "Requirement already satisfied: typing-extensions>=4.7.0 in /Library/Frameworks/Python.framework/Versions/3.12/lib/python3.12/site-packages (from emoji) (4.12.0)\n",
      "Note: you may need to restart the kernel to use updated packages.\n"
     ]
    }
   ],
   "source": [
    "pip install emoji"
   ]
  },
  {
   "cell_type": "code",
   "execution_count": 5,
   "metadata": {},
   "outputs": [],
   "source": [
    "import emoji"
   ]
  },
  {
   "cell_type": "code",
   "execution_count": 6,
   "metadata": {},
   "outputs": [],
   "source": [
    "# JUEGO PIEDRA, PAPEL TIJERA\n",
    "lista_juego = ('piedra', 'papel', 'tijera')\n",
    "\n",
    "# Implementar función que obtenga la elección del jugador y validar que sea una de las opciones válidas.\n",
    "def validar_eleccion_jugador1():\n",
    "    while True:\n",
    "        eleccion_jugador0 = input(\"Elige piedra, papel o tijera: \").lower()\n",
    "        if eleccion_jugador0 in lista_juego:\n",
    "            return eleccion_jugador0\n",
    "        else:\n",
    "            print(\"La palabra NO es válida, prueba otra vez.\")"
   ]
  },
  {
   "cell_type": "code",
   "execution_count": null,
   "metadata": {},
   "outputs": [],
   "source": []
  },
  {
   "cell_type": "code",
   "execution_count": 7,
   "metadata": {},
   "outputs": [
    {
     "name": "stdout",
     "output_type": "stream",
     "text": [
      "👩 Jugador:  piedra *VS* 🤖 Ordenador:  piedra\n",
      "Empate, no sumas puntos 😢\n",
      "👩 Puntos jugador: 0 *VS* 🤖 Puntos ordenador: 0 \n",
      "👩 Jugador:  papel *VS* 🤖 Ordenador:  papel\n",
      "Empate, no sumas puntos 😢\n",
      "👩 Puntos jugador: 0 *VS* 🤖 Puntos ordenador: 0 \n",
      "La palabra NO es válida, prueba otra vez.\n",
      "👩 Jugador:  piedra *VS* 🤖 Ordenador:  tijera\n",
      "¡Punto para ti! 👩 😀\n",
      "👩 Puntos jugador: 1 *VS* 🤖 Puntos ordenador: 0 \n",
      "👩 Jugador:  papel *VS* 🤖 Ordenador:  tijera\n",
      "punto para ordenador\n",
      "👩 Puntos jugador: 1 *VS* 🤖 Puntos ordenador: 1 \n",
      "👩 Jugador:  tijera *VS* 🤖 Ordenador:  papel\n",
      "punto para ti\n",
      "👩 Puntos jugador: 2 *VS* 🤖 Puntos ordenador: 1 \n",
      "👩 Jugador:  tijera *VS* 🤖 Ordenador:  papel\n",
      "punto para ti\n",
      "👩 Puntos jugador: 3 *VS* 🤖 Puntos ordenador: 1 \n",
      "🥳 HAS GANADO HUMANO!!! 👩\n"
     ]
    }
   ],
   "source": [
    "import random # Generar una elección aleatoria\n",
    "\n",
    "lista_juego = ('piedra', 'papel', 'tijera')\n",
    "\n",
    "puntos_objetivo = 3 # Definir puntos objetivo (3)\n",
    "puntos_del_jugador = 0\n",
    "puntos_del_ordenador = 0\n",
    "\n",
    "# Utilizar un bucle while para llevar un registro de los puntos de cada jugador y continuar el juego hasta llegar a los puntos objetivo.\n",
    "while puntos_del_jugador < puntos_objetivo and puntos_del_ordenador < puntos_objetivo:\n",
    "    eleccion_jugador = validar_eleccion_jugador1()\n",
    "    eleccion_ordenador = random.choice(lista_juego)\n",
    "    print(\"\\U0001F469 Jugador: \", eleccion_jugador , \"*VS*\" , \"\\U0001F916 Ordenador: \", eleccion_ordenador)\n",
    "    if eleccion_jugador == eleccion_ordenador:\n",
    "        print(\"Empate \\U0001F622\")\n",
    "        print (f\"\\U0001F469 Puntos: {puntos_del_jugador} *VS* \\U0001F916 Puntos: {puntos_del_ordenador} \")\n",
    "    elif eleccion_jugador == \"piedra\" and eleccion_ordenador == \"papel\":\n",
    "        puntos_del_ordenador += 1 # Actualización de puntos\n",
    "        print (\"Punto para el ordenador \\U0001F916 \\U0001F61E\")\n",
    "        print (f\"\\U0001F469 Puntos jugador: {puntos_del_jugador} *VS* \\U0001F916 Puntos ordenador: {puntos_del_ordenador} \")\n",
    "    elif eleccion_jugador == \"piedra\" and eleccion_ordenador == \"tijera\":\n",
    "        print (\"¡Punto para ti! \\U0001F469 \\U0001F600\")\n",
    "        puntos_del_jugador += 1\n",
    "        print (f\"\\U0001F469 Puntos jugador: {puntos_del_jugador} *VS* \\U0001F916 Puntos ordenador: {puntos_del_ordenador} \")\n",
    "    elif eleccion_jugador == \"tijera\" and eleccion_ordenador == \"papel\":\n",
    "        print (\"punto para ti\")\n",
    "        puntos_del_jugador += 1\n",
    "        print (f\"\\U0001F469 Puntos jugador: {puntos_del_jugador} *VS* \\U0001F916 Puntos ordenador: {puntos_del_ordenador} \")\n",
    "    elif eleccion_jugador == \"tijera\" and eleccion_ordenador == \"piedra\":\n",
    "        print (\"punto para ordenador\")\n",
    "        puntos_del_ordenador += 1 \n",
    "        print (f\"\\U0001F469 Puntos jugador: {puntos_del_jugador} *VS* \\U0001F916 Puntos ordenador: {puntos_del_ordenador} \")\n",
    "    elif eleccion_jugador == \"papel\" and eleccion_ordenador == \"piedra\":\n",
    "        print (\"punto para ti\")\n",
    "        puntos_del_jugador += 1\n",
    "        print (f\"\\U0001F469 Puntos jugador: {puntos_del_jugador} *VS* \\U0001F916 Puntos ordenador: {puntos_del_ordenador} \")\n",
    "    elif eleccion_jugador == \"papel\" and eleccion_ordenador == \"tijera\":\n",
    "        print (\"punto para ordenador\")\n",
    "        puntos_del_ordenador += 1\n",
    "        print (f\"\\U0001F469 Puntos jugador: {puntos_del_jugador} *VS* \\U0001F916 Puntos ordenador: {puntos_del_ordenador} \")\n",
    "\n",
    "# Verificar si un jugador alcanza los puntos objetivo y finalizar el juego\n",
    "if puntos_del_ordenador == 3: \n",
    "    print (\"HA GANADO EL ORDENADOR \\U0001F916 ¡PERO NOOOOOOOOO! ¡Tenemos que ganar los humanos\")\n",
    "elif puntos_del_jugador == 3:\n",
    "    print (\"\\U0001F973 ¡¡¡HAS GANADO HUMANO!!! \\U0001F469\")\n"
   ]
  }
 ],
 "metadata": {
  "kernelspec": {
   "display_name": "Python 3",
   "language": "python",
   "name": "python3"
  },
  "language_info": {
   "codemirror_mode": {
    "name": "ipython",
    "version": 3
   },
   "file_extension": ".py",
   "mimetype": "text/x-python",
   "name": "python",
   "nbconvert_exporter": "python",
   "pygments_lexer": "ipython3",
   "version": "3.12.3"
  }
 },
 "nbformat": 4,
 "nbformat_minor": 2
}
