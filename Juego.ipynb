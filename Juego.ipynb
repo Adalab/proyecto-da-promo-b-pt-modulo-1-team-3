{
 "cells": [
  {
   "cell_type": "code",
   "execution_count": 5,
   "metadata": {},
   "outputs": [
    {
     "name": "stdout",
     "output_type": "stream",
     "text": [
      "Requirement already satisfied: pip in c:\\users\\leyre\\appdata\\local\\programs\\python\\python312\\lib\\site-packages (24.0)\n",
      "Note: you may need to restart the kernel to use updated packages.\n"
     ]
    }
   ],
   "source": [
    "pip install --upgrade pip"
   ]
  },
  {
   "cell_type": "code",
   "execution_count": 6,
   "metadata": {},
   "outputs": [
    {
     "name": "stdout",
     "output_type": "stream",
     "text": [
      "Requirement already satisfied: emoji in c:\\users\\leyre\\appdata\\local\\programs\\python\\python312\\lib\\site-packages (2.12.1)\n",
      "Requirement already satisfied: typing-extensions>=4.7.0 in c:\\users\\leyre\\appdata\\local\\programs\\python\\python312\\lib\\site-packages (from emoji) (4.12.0)\n",
      "Note: you may need to restart the kernel to use updated packages.\n"
     ]
    }
   ],
   "source": [
    "pip install emoji"
   ]
  },
  {
   "cell_type": "code",
   "execution_count": 2,
   "metadata": {},
   "outputs": [],
   "source": [
    "import emoji"
   ]
  },
  {
   "cell_type": "code",
   "execution_count": 1,
   "metadata": {},
   "outputs": [],
   "source": [
    "# JUEGO PIEDRA, PAPEL O TIJERA 🪨 📄 ✂️ \n",
    "\n",
    "lista_juego = ('piedra', 'papel', 'tijera')\n",
    "\n",
    "# Implementar función que obtenga la elección del jugador y validar que sea una de las opciones válidas.\n",
    "def validar_eleccion_jugador1():\n",
    "    while True:\n",
    "        eleccion_jugador0 = input(\"Elige piedra, papel o tijera: \").lower()\n",
    "        if eleccion_jugador0 in lista_juego:\n",
    "            return eleccion_jugador0\n",
    "        else:\n",
    "            print(\"La palabra NO es válida \\U0000274C, prueba otra vez.\")"
   ]
  },
  {
   "cell_type": "code",
   "execution_count": 2,
   "metadata": {},
   "outputs": [
    {
     "name": "stdout",
     "output_type": "stream",
     "text": [
      "---------- PIEDRA, PAPEL O TIJERA ----------\n",
      "----------   🪨     📄     ✂️   -----------\n"
     ]
    },
    {
     "name": "stdout",
     "output_type": "stream",
     "text": [
      "--------------- NUEVA RONDA ------------- \n",
      "👩 Jugador:  piedra *VS* 🤖 Ordenador:  piedra\n",
      "                🏳️ Empate 🏳️\n",
      "🏆  Puntos 👩: 0 *VS* Puntos 🤖: 0 \n",
      "--------------- NUEVA RONDA ------------- \n",
      "👩 Jugador:  papel *VS* 🤖 Ordenador:  tijera\n",
      "         🤖 Punto para el ordenador 🤖\n",
      "🏆  Puntos 👩: 0 *VS* Puntos 🤖: 1 \n",
      "--------------- NUEVA RONDA ------------- \n",
      "👩 Jugador:  tijera *VS* 🤖 Ordenador:  tijera\n",
      "                🏳️ Empate 🏳️\n",
      "🏆  Puntos 👩: 0 *VS* Puntos 🤖: 1 \n",
      "--------------- NUEVA RONDA ------------- \n",
      "👩 Jugador:  papel *VS* 🤖 Ordenador:  piedra\n",
      "            😀 ¡Punto para ti! 😀\n",
      "🏆  Puntos 👩: 1 *VS* Puntos 🤖: 1 \n",
      "--------------- NUEVA RONDA ------------- \n",
      "👩 Jugador:  piedra *VS* 🤖 Ordenador:  papel\n",
      "         🤖 Punto para el ordenador 🤖\n",
      "🏆  Puntos 👩: 1 *VS* Puntos 🤖: 2 \n",
      "--------------- NUEVA RONDA ------------- \n",
      "👩 Jugador:  tijera *VS* 🤖 Ordenador:  tijera\n",
      "                🏳️ Empate 🏳️\n",
      "🏆  Puntos 👩: 1 *VS* Puntos 🤖: 2 \n",
      "--------------- NUEVA RONDA ------------- \n",
      "👩 Jugador:  papel *VS* 🤖 Ordenador:  papel\n",
      "                🏳️ Empate 🏳️\n",
      "🏆  Puntos 👩: 1 *VS* Puntos 🤖: 2 \n",
      "--------------- NUEVA RONDA ------------- \n",
      "👩 Jugador:  tijera *VS* 🤖 Ordenador:  tijera\n",
      "                🏳️ Empate 🏳️\n",
      "🏆  Puntos 👩: 1 *VS* Puntos 🤖: 2 \n",
      "--------------- NUEVA RONDA ------------- \n",
      "👩 Jugador:  papel *VS* 🤖 Ordenador:  piedra\n",
      "            😀 ¡Punto para ti! 😀\n",
      "🏆  Puntos 👩: 2 *VS* Puntos 🤖: 2 \n",
      "--------------- NUEVA RONDA ------------- \n",
      "👩 Jugador:  tijera *VS* 🤖 Ordenador:  papel\n",
      "            😀 ¡Punto para ti! 😀\n",
      "🏆  Puntos 👩: 3 *VS* Puntos 🤖: 2 \n",
      "--------------- FIN DEL JUEGO -------------\n",
      "        🥳 ¡¡¡HAS GANADO HUMANO!!! 🥳\n"
     ]
    }
   ],
   "source": [
    "import random # Generar una elección aleatoria\n",
    "\n",
    "lista_juego = ('piedra', 'papel', 'tijera')\n",
    "\n",
    "puntos_objetivo = 3 # Definir puntos objetivo (3)\n",
    "puntos_del_jugador = 0\n",
    "puntos_del_ordenador = 0\n",
    "\n",
    "print(\"---------- PIEDRA, PAPEL O TIJERA ----------\")\n",
    "print(\"----------   \\U0001FAA8     \\U0001F4C4     \\u2702\\ufe0f   -----------\")\n",
    "\n",
    "# Utilizar un bucle while para llevar un registro de los puntos de cada jugador y continuar el juego hasta llegar a los puntos objetivo.\n",
    "while puntos_del_jugador < puntos_objetivo and puntos_del_ordenador < puntos_objetivo:\n",
    "    eleccion_jugador = validar_eleccion_jugador1()\n",
    "    eleccion_ordenador = random.choice(lista_juego)\n",
    "    \n",
    "    print (\"--------------- NUEVA RONDA ------------- \")\n",
    "    print(\"\\U0001F469 Jugador: \", eleccion_jugador , \"*VS*\" , \"\\U0001F916 Ordenador: \", eleccion_ordenador)\n",
    "    if eleccion_jugador == eleccion_ordenador:\n",
    "        print(\"                \\U0001F3F3\\ufe0f Empate \\U0001F3F3\\ufe0f\")\n",
    "        print(f\"\\U0001F3C6  Puntos \\U0001F469: {puntos_del_jugador} *VS* Puntos \\U0001F916: {puntos_del_ordenador} \")\n",
    "        \n",
    "    elif eleccion_jugador == \"piedra\" and eleccion_ordenador == \"papel\":\n",
    "        puntos_del_ordenador += 1 # Actualización de puntos\n",
    "        print (\"         \\U0001F916 Punto para el ordenador \\U0001F916\")\n",
    "        print(f\"\\U0001F3C6  Puntos \\U0001F469: {puntos_del_jugador} *VS* Puntos \\U0001F916: {puntos_del_ordenador} \")\n",
    "        \n",
    "    elif eleccion_jugador == \"piedra\" and eleccion_ordenador == \"tijera\":\n",
    "        puntos_del_jugador += 1\n",
    "        print (\"            \\U0001F600 ¡Punto para ti! \\U0001F600\")\n",
    "        print(f\"\\U0001F3C6  Puntos \\U0001F469: {puntos_del_jugador} *VS* Puntos \\U0001F916: {puntos_del_ordenador} \")        \n",
    "    elif eleccion_jugador == \"tijera\" and eleccion_ordenador == \"papel\":\n",
    "        puntos_del_jugador += 1\n",
    "        print (\"            \\U0001F600 ¡Punto para ti! \\U0001F600\")\n",
    "        print(f\"\\U0001F3C6  Puntos \\U0001F469: {puntos_del_jugador} *VS* Puntos \\U0001F916: {puntos_del_ordenador} \")        \n",
    "        \n",
    "    elif eleccion_jugador == \"tijera\" and eleccion_ordenador == \"piedra\":\n",
    "        puntos_del_ordenador += 1 \n",
    "        print (\"         \\U0001F916 Punto para el ordenador \\U0001F916\")\n",
    "        print(f\"\\U0001F3C6  Puntos \\U0001F469: {puntos_del_jugador} *VS* Puntos \\U0001F916: {puntos_del_ordenador} \")        \n",
    "        \n",
    "    elif eleccion_jugador == \"papel\" and eleccion_ordenador == \"piedra\":\n",
    "        puntos_del_jugador += 1\n",
    "        print (\"            \\U0001F600 ¡Punto para ti! \\U0001F600\")\n",
    "        print(f\"\\U0001F3C6  Puntos \\U0001F469: {puntos_del_jugador} *VS* Puntos \\U0001F916: {puntos_del_ordenador} \")        \n",
    "        \n",
    "    elif eleccion_jugador == \"papel\" and eleccion_ordenador == \"tijera\":\n",
    "        puntos_del_ordenador += 1\n",
    "        print (\"         \\U0001F916 Punto para el ordenador \\U0001F916\")\n",
    "        print(f\"\\U0001F3C6  Puntos \\U0001F469: {puntos_del_jugador} *VS* Puntos \\U0001F916: {puntos_del_ordenador} \")        \n",
    "\n",
    "# Verificar si un jugador alcanza los puntos objetivo y finalizar el juego\n",
    "if puntos_del_ordenador == 3: \n",
    "    print (\"HA GANADO EL ORDENADOR \\U0001F916 ¡PERO NOOOOOOOOO! ¡Tenemos que ganar los humanos! \\U0001F61E\")\n",
    "elif puntos_del_jugador == 3:\n",
    "    print(\"--------------- FIN DEL JUEGO -------------\")\n",
    "    print (\"        \\U0001F973 ¡¡¡HAS GANADO HUMANO!!! \\U0001F973\")\n"
   ]
  }
 ],
 "metadata": {
  "kernelspec": {
   "display_name": "Python 3",
   "language": "python",
   "name": "python3"
  },
  "language_info": {
   "codemirror_mode": {
    "name": "ipython",
    "version": 3
   },
   "file_extension": ".py",
   "mimetype": "text/x-python",
   "name": "python",
   "nbconvert_exporter": "python",
   "pygments_lexer": "ipython3",
   "version": "3.12.2"
  }
 },
 "nbformat": 4,
 "nbformat_minor": 2
}
