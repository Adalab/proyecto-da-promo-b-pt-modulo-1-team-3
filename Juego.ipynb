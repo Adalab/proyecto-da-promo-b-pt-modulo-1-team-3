{
 "cells": [
  {
   "cell_type": "code",
   "execution_count": 15,
   "metadata": {},
   "outputs": [
    {
     "name": "stdout",
     "output_type": "stream",
     "text": [
      "Requirement already satisfied: pip in c:\\program files\\windowsapps\\pythonsoftwarefoundation.python.3.11_3.11.2544.0_x64__qbz5n2kfra8p0\\lib\\site-packages (24.0)\n",
      "Note: you may need to restart the kernel to use updated packages.\n"
     ]
    }
   ],
   "source": [
    "pip install --upgrade pip"
   ]
  },
  {
   "cell_type": "code",
   "execution_count": 19,
   "metadata": {},
   "outputs": [
    {
     "name": "stdout",
     "output_type": "stream",
     "text": [
      "Collecting emoji\n",
      "  Downloading emoji-2.12.1-py3-none-any.whl.metadata (5.4 kB)\n",
      "Requirement already satisfied: typing-extensions>=4.7.0 in c:\\users\\trico\\appdata\\local\\packages\\pythonsoftwarefoundation.python.3.11_qbz5n2kfra8p0\\localcache\\local-packages\\python311\\site-packages (from emoji) (4.11.0)\n",
      "Downloading emoji-2.12.1-py3-none-any.whl (431 kB)\n",
      "   ---------------------------------------- 0.0/431.4 kB ? eta -:--:--\n",
      "    --------------------------------------- 10.2/431.4 kB ? eta -:--:--\n",
      "   ----- --------------------------------- 61.4/431.4 kB 812.7 kB/s eta 0:00:01\n",
      "   ---------------------------------------  430.1/431.4 kB 4.5 MB/s eta 0:00:01\n",
      "   ---------------------------------------- 431.4/431.4 kB 3.8 MB/s eta 0:00:00\n",
      "Installing collected packages: emoji\n",
      "Successfully installed emoji-2.12.1\n",
      "Note: you may need to restart the kernel to use updated packages.\n"
     ]
    }
   ],
   "source": [
    "pip install emoji"
   ]
  },
  {
   "cell_type": "code",
   "execution_count": 22,
   "metadata": {},
   "outputs": [],
   "source": [
    "\n",
    "\n",
    "\n",
    "import emoji\n",
    "\n"
   ]
  },
  {
   "cell_type": "code",
   "execution_count": 60,
   "metadata": {},
   "outputs": [],
   "source": [
    "\n",
    "def validar_eleccion_jugador():\n",
    "    lista_juego = ('piedra', 'papel', 'tijera')\n",
    "    eleccion_jugador = input('elige piedra papel tijera')\n",
    "    if eleccion_jugador.lower() in lista_juego:\n",
    "      return eleccion_jugador.lower()\n",
    "    else:\n",
    "      print(\"La palabra que has ingresado no es válida, prueba otra vez.\")\n"
   ]
  },
  {
   "cell_type": "code",
   "execution_count": 63,
   "metadata": {},
   "outputs": [],
   "source": [
    "lista_juego = ('piedra', 'papel', 'tijera')\n",
    "def validar_eleccion_jugador1():\n",
    "    while True:\n",
    "        eleccion_jugador0 = input(\"Elige piedra, papel o tijera: \").lower()\n",
    "        if eleccion_jugador0 in lista_juego:\n",
    "            return eleccion_jugador0\n",
    "        else:\n",
    "            print(\"La palabra que has ingresado no es válida, prueba otra vez.\")"
   ]
  },
  {
   "cell_type": "code",
   "execution_count": 64,
   "metadata": {},
   "outputs": [
    {
     "name": "stdout",
     "output_type": "stream",
     "text": [
      "el jugador ha elegido:  papel\n",
      "el ordenador ha elegido:  piedra\n",
      "punto para ti\n",
      "Los puntos que lleva el ordenador son:0\n",
      "Los puntos que llevas son: 1\n",
      "el jugador ha elegido:  piedra\n",
      "el ordenador ha elegido:  papel\n",
      "punto para el ordenador\n",
      "Los puntos que lleva el ordenador son:1\n",
      "Los puntos que llevas son: 1\n",
      "el jugador ha elegido:  tijera\n",
      "el ordenador ha elegido:  tijera\n",
      "empate, no sumas puntos 😢\n",
      "Los puntos que lleva el ordenador son:1\n",
      "Los puntos que llevas son: 1\n",
      "el jugador ha elegido:  papel\n",
      "el ordenador ha elegido:  piedra\n",
      "punto para ti\n",
      "Los puntos que lleva el ordenador son:1\n",
      "Los puntos que llevas son: 2\n",
      "La palabra que has ingresado no es válida, prueba otra vez.\n",
      "La palabra que has ingresado no es válida, prueba otra vez.\n",
      "La palabra que has ingresado no es válida, prueba otra vez.\n"
     ]
    },
    {
     "ename": "KeyboardInterrupt",
     "evalue": "Interrupted by user",
     "output_type": "error",
     "traceback": [
      "\u001b[1;31m---------------------------------------------------------------------------\u001b[0m",
      "\u001b[1;31mKeyboardInterrupt\u001b[0m                         Traceback (most recent call last)",
      "Cell \u001b[1;32mIn[64], line 10\u001b[0m\n\u001b[0;32m      7\u001b[0m puntos_del_ordenador \u001b[38;5;241m=\u001b[39m \u001b[38;5;241m0\u001b[39m\n\u001b[0;32m      9\u001b[0m \u001b[38;5;28;01mwhile\u001b[39;00m puntos_del_jugador \u001b[38;5;241m<\u001b[39m \u001b[38;5;241m3\u001b[39m \u001b[38;5;129;01mand\u001b[39;00m puntos_del_ordenador \u001b[38;5;241m<\u001b[39m \u001b[38;5;241m3\u001b[39m:\n\u001b[1;32m---> 10\u001b[0m     eleccion_jugador \u001b[38;5;241m=\u001b[39m \u001b[43mvalidar_eleccion_jugador1\u001b[49m\u001b[43m(\u001b[49m\u001b[43m)\u001b[49m\n\u001b[0;32m     11\u001b[0m     eleccion_ordenador \u001b[38;5;241m=\u001b[39m random\u001b[38;5;241m.\u001b[39mchoice(lista_juego)\n\u001b[0;32m     12\u001b[0m     \u001b[38;5;28mprint\u001b[39m(\u001b[38;5;124m\"\u001b[39m\u001b[38;5;124mel jugador ha elegido: \u001b[39m\u001b[38;5;124m\"\u001b[39m, eleccion_jugador)\n",
      "Cell \u001b[1;32mIn[63], line 4\u001b[0m, in \u001b[0;36mvalidar_eleccion_jugador1\u001b[1;34m()\u001b[0m\n\u001b[0;32m      2\u001b[0m \u001b[38;5;28;01mdef\u001b[39;00m \u001b[38;5;21mvalidar_eleccion_jugador1\u001b[39m():\n\u001b[0;32m      3\u001b[0m     \u001b[38;5;28;01mwhile\u001b[39;00m \u001b[38;5;28;01mTrue\u001b[39;00m:\n\u001b[1;32m----> 4\u001b[0m         eleccion_jugador0 \u001b[38;5;241m=\u001b[39m \u001b[38;5;28;43minput\u001b[39;49m\u001b[43m(\u001b[49m\u001b[38;5;124;43m\"\u001b[39;49m\u001b[38;5;124;43mElige piedra, papel o tijera: \u001b[39;49m\u001b[38;5;124;43m\"\u001b[39;49m\u001b[43m)\u001b[49m\u001b[38;5;241m.\u001b[39mlower()\n\u001b[0;32m      5\u001b[0m         \u001b[38;5;28;01mif\u001b[39;00m eleccion_jugador0 \u001b[38;5;129;01min\u001b[39;00m lista_juego:\n\u001b[0;32m      6\u001b[0m             \u001b[38;5;28;01mreturn\u001b[39;00m eleccion_jugador0\n",
      "File \u001b[1;32m~\\AppData\\Local\\Packages\\PythonSoftwareFoundation.Python.3.11_qbz5n2kfra8p0\\LocalCache\\local-packages\\Python311\\site-packages\\ipykernel\\kernelbase.py:1282\u001b[0m, in \u001b[0;36mKernel.raw_input\u001b[1;34m(self, prompt)\u001b[0m\n\u001b[0;32m   1280\u001b[0m     msg \u001b[38;5;241m=\u001b[39m \u001b[38;5;124m\"\u001b[39m\u001b[38;5;124mraw_input was called, but this frontend does not support input requests.\u001b[39m\u001b[38;5;124m\"\u001b[39m\n\u001b[0;32m   1281\u001b[0m     \u001b[38;5;28;01mraise\u001b[39;00m StdinNotImplementedError(msg)\n\u001b[1;32m-> 1282\u001b[0m \u001b[38;5;28;01mreturn\u001b[39;00m \u001b[38;5;28;43mself\u001b[39;49m\u001b[38;5;241;43m.\u001b[39;49m\u001b[43m_input_request\u001b[49m\u001b[43m(\u001b[49m\n\u001b[0;32m   1283\u001b[0m \u001b[43m    \u001b[49m\u001b[38;5;28;43mstr\u001b[39;49m\u001b[43m(\u001b[49m\u001b[43mprompt\u001b[49m\u001b[43m)\u001b[49m\u001b[43m,\u001b[49m\n\u001b[0;32m   1284\u001b[0m \u001b[43m    \u001b[49m\u001b[38;5;28;43mself\u001b[39;49m\u001b[38;5;241;43m.\u001b[39;49m\u001b[43m_parent_ident\u001b[49m\u001b[43m[\u001b[49m\u001b[38;5;124;43m\"\u001b[39;49m\u001b[38;5;124;43mshell\u001b[39;49m\u001b[38;5;124;43m\"\u001b[39;49m\u001b[43m]\u001b[49m\u001b[43m,\u001b[49m\n\u001b[0;32m   1285\u001b[0m \u001b[43m    \u001b[49m\u001b[38;5;28;43mself\u001b[39;49m\u001b[38;5;241;43m.\u001b[39;49m\u001b[43mget_parent\u001b[49m\u001b[43m(\u001b[49m\u001b[38;5;124;43m\"\u001b[39;49m\u001b[38;5;124;43mshell\u001b[39;49m\u001b[38;5;124;43m\"\u001b[39;49m\u001b[43m)\u001b[49m\u001b[43m,\u001b[49m\n\u001b[0;32m   1286\u001b[0m \u001b[43m    \u001b[49m\u001b[43mpassword\u001b[49m\u001b[38;5;241;43m=\u001b[39;49m\u001b[38;5;28;43;01mFalse\u001b[39;49;00m\u001b[43m,\u001b[49m\n\u001b[0;32m   1287\u001b[0m \u001b[43m\u001b[49m\u001b[43m)\u001b[49m\n",
      "File \u001b[1;32m~\\AppData\\Local\\Packages\\PythonSoftwareFoundation.Python.3.11_qbz5n2kfra8p0\\LocalCache\\local-packages\\Python311\\site-packages\\ipykernel\\kernelbase.py:1325\u001b[0m, in \u001b[0;36mKernel._input_request\u001b[1;34m(self, prompt, ident, parent, password)\u001b[0m\n\u001b[0;32m   1322\u001b[0m \u001b[38;5;28;01mexcept\u001b[39;00m \u001b[38;5;167;01mKeyboardInterrupt\u001b[39;00m:\n\u001b[0;32m   1323\u001b[0m     \u001b[38;5;66;03m# re-raise KeyboardInterrupt, to truncate traceback\u001b[39;00m\n\u001b[0;32m   1324\u001b[0m     msg \u001b[38;5;241m=\u001b[39m \u001b[38;5;124m\"\u001b[39m\u001b[38;5;124mInterrupted by user\u001b[39m\u001b[38;5;124m\"\u001b[39m\n\u001b[1;32m-> 1325\u001b[0m     \u001b[38;5;28;01mraise\u001b[39;00m \u001b[38;5;167;01mKeyboardInterrupt\u001b[39;00m(msg) \u001b[38;5;28;01mfrom\u001b[39;00m \u001b[38;5;28;01mNone\u001b[39;00m\n\u001b[0;32m   1326\u001b[0m \u001b[38;5;28;01mexcept\u001b[39;00m \u001b[38;5;167;01mException\u001b[39;00m:\n\u001b[0;32m   1327\u001b[0m     \u001b[38;5;28mself\u001b[39m\u001b[38;5;241m.\u001b[39mlog\u001b[38;5;241m.\u001b[39mwarning(\u001b[38;5;124m\"\u001b[39m\u001b[38;5;124mInvalid Message:\u001b[39m\u001b[38;5;124m\"\u001b[39m, exc_info\u001b[38;5;241m=\u001b[39m\u001b[38;5;28;01mTrue\u001b[39;00m)\n",
      "\u001b[1;31mKeyboardInterrupt\u001b[0m: Interrupted by user"
     ]
    }
   ],
   "source": [
    "# Programación del juego\n",
    "import random\n",
    "\n",
    "lista_juego = ('piedra', 'papel', 'tijera')\n",
    "\n",
    "puntos_del_jugador = 0\n",
    "puntos_del_ordenador = 0\n",
    "\n",
    "while puntos_del_jugador < 3 and puntos_del_ordenador < 3:\n",
    "    eleccion_jugador = validar_eleccion_jugador1()\n",
    "    eleccion_ordenador = random.choice(lista_juego)\n",
    "    print(\"el jugador ha elegido: \", eleccion_jugador)\n",
    "    print(\"el ordenador ha elegido: \", eleccion_ordenador)\n",
    "    if eleccion_jugador == eleccion_ordenador:\n",
    "        print(\"empate, no sumas puntos \\U0001F622\")\n",
    "        print (f\"Los puntos que lleva el ordenador son:{puntos_del_ordenador}\")\n",
    "        print (f\"Los puntos que llevas son: {puntos_del_jugador}\")\n",
    "    elif eleccion_jugador == \"piedra\" and eleccion_ordenador == \"papel\":\n",
    "        print (\"punto para el ordenador\")\n",
    "        puntos_del_ordenador += 1\n",
    "        print (f\"Los puntos que lleva el ordenador son:{puntos_del_ordenador}\")\n",
    "        print (f\"Los puntos que llevas son: {puntos_del_jugador}\")\n",
    "    elif eleccion_jugador == \"piedra\" and eleccion_ordenador == \"tijera\":\n",
    "        print (\"punto para ti\")\n",
    "        puntos_del_jugador += 1\n",
    "        print (f\"Los puntos que lleva el ordenador son:{puntos_del_ordenador}\")\n",
    "        print (f\"Los puntos que llevas son: {puntos_del_jugador}\")\n",
    "    elif eleccion_jugador == \"tijera\" and eleccion_ordenador == \"papel\":\n",
    "        print (\"punto para ti\")\n",
    "        puntos_del_jugador += 1\n",
    "        print (f\"Los puntos que lleva el ordenador son:{puntos_del_ordenador}\")\n",
    "        print (f\"Los puntos que llevas son: {puntos_del_jugador}\")\n",
    "    elif eleccion_jugador == \"tijera\" and eleccion_ordenador == \"piedra\":\n",
    "        print (\"punto para ordenador\")\n",
    "        puntos_del_ordenador += 1 \n",
    "        print (f\"Los puntos que lleva el ordenador son:{puntos_del_ordenador}\")\n",
    "        print (f\"Los puntos que llevas son: {puntos_del_jugador}\")\n",
    "    elif eleccion_jugador == \"papel\" and eleccion_ordenador == \"piedra\":\n",
    "        print (\"punto para ti\")\n",
    "        puntos_del_jugador += 1\n",
    "        print (f\"Los puntos que lleva el ordenador son:{puntos_del_ordenador}\")\n",
    "        print (f\"Los puntos que llevas son: {puntos_del_jugador}\")\n",
    "    elif eleccion_jugador == \"papel\" and eleccion_ordenador == \"tijera\":\n",
    "        print (\"punto para ordenador\")\n",
    "        puntos_del_ordenador += 1\n",
    "        print (f\"Los puntos que lleva el ordenador son:{puntos_del_ordenador}\")\n",
    "        print (f\"Los puntos que llevas son: {puntos_del_jugador}\")\n",
    "if puntos_del_ordenador == 3: \n",
    "    print (\"pero no! tenemos que ganar los humanos\")\n",
    "elif puntos_del_jugador == 3:\n",
    "    print (\"HAS GANADO HUMANO!!!\")\n",
    "\n",
    "print (f\"Los puntos que lleva el ordenador son:{puntos_del_ordenador}\")\n",
    "print (f\"Los puntos que llevas son: {puntos_del_jugador}\")\n",
    "\n"
   ]
  },
  {
   "cell_type": "code",
   "execution_count": null,
   "metadata": {},
   "outputs": [],
   "source": [
    "\n"
   ]
  }
 ],
 "metadata": {
  "kernelspec": {
   "display_name": "Python 3",
   "language": "python",
   "name": "python3"
  },
  "language_info": {
   "codemirror_mode": {
    "name": "ipython",
    "version": 3
   },
   "file_extension": ".py",
   "mimetype": "text/x-python",
   "name": "python",
   "nbconvert_exporter": "python",
   "pygments_lexer": "ipython3",
   "version": "3.12.3"
  }
 },
 "nbformat": 4,
 "nbformat_minor": 2
}
