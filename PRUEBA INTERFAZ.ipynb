{
 "cells": [
  {
   "cell_type": "code",
   "execution_count": 1,
   "metadata": {},
   "outputs": [],
   "source": [
    "# EJEMPLO BASICO\n",
    "\n",
    "import tkinter as tk\n",
    "from tkinter import ttk\n",
    "\n",
    "# Function to update the label with a greeting\n",
    "def greet():\n",
    "    greeting_label.config(text=\"Hello, Tkinter!\")\n",
    "\n",
    "# Create the main window\n",
    "root = tk.Tk()\n",
    "root.title(\"Simple Greeting\")\n",
    "\n",
    "# Create and place the button\n",
    "greet_button = ttk.Button(root, text=\"Greet\", command=greet)\n",
    "greet_button.pack(pady=10)\n",
    "\n",
    "# Create and place the label\n",
    "greeting_label = ttk.Label(root, text=\"\")\n",
    "greeting_label.pack(pady=10)\n",
    "\n",
    "# Run the application\n",
    "root.mainloop()"
   ]
  },
  {
   "cell_type": "code",
   "execution_count": 18,
   "metadata": {},
   "outputs": [],
   "source": [
    "# EJEMPLO DE INTERFAZ\n",
    "\n",
    "import tkinter as tk\n",
    "from tkinter import ttk\n",
    "\n",
    "# Function to add two numbers\n",
    "def add_numbers():\n",
    "    try:\n",
    "        num1 = float(entry1.get())\n",
    "        num2 = float(entry2.get())\n",
    "        result = num1 + num2\n",
    "        result_label.config(text=f\"Result: {result}\")\n",
    "    except ValueError:\n",
    "        result_label.config(text=\"Please enter valid numbers\")\n",
    "\n",
    "# Create the main window\n",
    "root = tk.Tk()\n",
    "root.title(\"PIEDRA, PAPEL O TIJERA\")\n",
    "root.geometry(\"900x1200\")\n",
    "\n",
    "# Create and place the widgets\n",
    "ttk.Label(root, text=\"Elige piedra, papel o tijera:\").grid(column=0, row=0, padx=10, pady=10)\n",
    "entry1 = ttk.Entry(root)\n",
    "entry1.grid(column=1, row=0, padx=10, pady=10)\n",
    "\n",
    "ttk.Label(root, text=\"Number 2:\").grid(column=0, row=1, padx=10, pady=10)\n",
    "entry2 = ttk.Entry(root)\n",
    "entry2.grid(column=1, row=1, padx=10, pady=10)\n",
    "\n",
    "add_button = ttk.Button(root, text=\"Add\", command=add_numbers)\n",
    "add_button.grid(column=0, row=2, columnspan=2, padx=10, pady=10)\n",
    "\n",
    "result_label = ttk.Label(root, text=\"Result: \")\n",
    "result_label.grid(column=0, row=3, columnspan=2, padx=10, pady=10)\n",
    "\n",
    "# Run the application\n",
    "root.mainloop()"
   ]
  }
 ],
 "metadata": {
  "kernelspec": {
   "display_name": "Python 3",
   "language": "python",
   "name": "python3"
  },
  "language_info": {
   "codemirror_mode": {
    "name": "ipython",
    "version": 3
   },
   "file_extension": ".py",
   "mimetype": "text/x-python",
   "name": "python",
   "nbconvert_exporter": "python",
   "pygments_lexer": "ipython3",
   "version": "3.12.2"
  }
 },
 "nbformat": 4,
 "nbformat_minor": 2
}
